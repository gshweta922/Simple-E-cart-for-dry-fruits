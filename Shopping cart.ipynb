{
 "cells": [
  {
   "cell_type": "code",
   "execution_count": 22,
   "metadata": {},
   "outputs": [],
   "source": [
    "#Shweta's Assignment\n",
    "#Virtual Shopping CART(Dry Fruits)"
   ]
  },
  {
   "cell_type": "code",
   "execution_count": 23,
   "metadata": {},
   "outputs": [
    {
     "name": "stdout",
     "output_type": "stream",
     "text": [
      "Note: you may need to restart the kernel to use updated packages.\n"
     ]
    },
    {
     "name": "stderr",
     "output_type": "stream",
     "text": [
      "'C:\\Users\\SHWETA' is not recognized as an internal or external command,\n",
      "operable program or batch file.\n"
     ]
    }
   ],
   "source": [
    "pip install tkiter\n"
   ]
  },
  {
   "cell_type": "code",
   "execution_count": 24,
   "metadata": {},
   "outputs": [],
   "source": [
    "from tkinter import *\n",
    "\n",
    "root = Tk()\n",
    "root.geometry('800x800')\n",
    "root.title(\"Sign up Page\")\n",
    "\n",
    "label_0 = Label(root, text=\"Sign up Page\",width=20,font=(\"bold\", 20))\n",
    "label_0.place(x=90,y=53)\n",
    "\n",
    "\n",
    "label_2 = Label(root, text=\"Email\",width=20,font=(\"bold\", 10))\n",
    "label_2.place(x=80,y=130)\n",
    "\n",
    "entry_2 = Entry(root)\n",
    "entry_2.place(x=240,y=180)\n",
    "label_3 = Label(root, text=\"Phone no.\",width=20,font=(\"bold\", 10))\n",
    "label_3.place(x=70,y=180)\n",
    "\n",
    "entry_3 = Entry(root)\n",
    "entry_3.place(x=240,y=130)\n",
    "\n",
    "\n",
    "label_4 = Label(root, text=\"State\",width=20,font=(\"bold\", 10))\n",
    "label_4.place(x=70,y=280)\n",
    "\n",
    "label_5 = Label(root, text=\"set password\",width=20,font=(\"bold\", 10))\n",
    "label_5.place(x=100,y=150)\n",
    "\n",
    "entry_5 = Entry(root)\n",
    "entry_5.place(x=260,y=155)\n",
    "\n",
    "label_1 = Label(root, text=\"FullName\",width=20,font=(\"bold\", 10))\n",
    "label_1.place(x=80,y=130)\n",
    "\n",
    "list1 = ['Maharashra','kolkata','delhi','up','MP','Punjab'];\n",
    "c=StringVar()\n",
    "droplist=OptionMenu(root,c, *list1)\n",
    "droplist.config(width=15)\n",
    "c.set('select your country') \n",
    "droplist.place(x=240,y=280)\n",
    "\n",
    "\n",
    "\n",
    "\n",
    "\n",
    "\n",
    "entry_5 = Entry(root)\n",
    "entry_5.place(x=240,y=130)\n",
    "Button(root, text='Submit',width=20,bg='brown',fg='white').place(x=180,y=380)\n",
    "\n",
    "root.mainloop()\n"
   ]
  },
  {
   "cell_type": "code",
   "execution_count": 16,
   "metadata": {},
   "outputs": [],
   "source": [
    "from tkinter import *\n",
    "from tkinter import messagebox\n",
    "\n",
    " \n",
    "def Ok():\n",
    "    uname = e1.get()\n",
    "    password = e2.get()\n",
    " \n",
    "    if(uname == \"\" and password == \"\") :\n",
    "        messagebox.showinfo(\"\", \"Blank Not allowed\")\n",
    " \n",
    " \n",
    "    elif(uname == \"Admin\" and password == \"123\"):\n",
    " \n",
    "        messagebox.showinfo(\"\",\"Login Success\")\n",
    "        root.destroy()\n",
    " \n",
    "    else :\n",
    "        messagebox.showinfo(\"\",\"Incorrent Username and Password\")\n",
    " \n",
    " \n",
    "root = Tk()\n",
    "root.title(\"Login\")\n",
    "root.geometry(\"300x200\")\n",
    "global e1\n",
    "global e2\n",
    " \n",
    "Label(root, text=\"FullName\").place(x=10, y=10)\n",
    "Label(root, text=\"Password\").place(x=10, y=40)\n",
    " \n",
    "e1 = Entry(root)\n",
    "e1.place(x=140, y=10)\n",
    " \n",
    "e2 = Entry(root)\n",
    "e2.place(x=140, y=40)\n",
    "e2.config(show=\"*\")\n",
    " \n",
    " \n",
    "Button(root, text=\"Login\", command=Ok ,height = 3, width = 13).place(x=10, y=100)\n",
    " \n",
    "root.mainloop()"
   ]
  },
  {
   "cell_type": "code",
   "execution_count": 21,
   "metadata": {},
   "outputs": [
    {
     "name": "stdout",
     "output_type": "stream",
     "text": [
      "0\n",
      "5\n"
     ]
    }
   ],
   "source": [
    "from tkinter import *\n",
    "\n",
    "def createListinListBox(shopping):\n",
    "    for elem in shopping:\n",
    "        theList.insert(END,elem[0] + \"-\" + str(elem[1]))\n",
    "\n",
    "def listIndex(shopping, item):\n",
    "    index = -1\n",
    "    for i in range(len(shopping)):\n",
    "        if shopping[i][0] == item:\n",
    "            index = i\n",
    "    return index\n",
    "\n",
    "def addList(shopping, item, index):\n",
    "    if index == -1:\n",
    "        shopping.append([item,1])\n",
    "    else:\n",
    "        shopping[index][1] += quantity.get()\n",
    "\n",
    "def removeList(sopping, index):\n",
    "    del(shopping[index])\n",
    "\n",
    "def add():\n",
    "    index = listIndex(shopping, item.get())\n",
    "    addList(shopping, item.get(), index)\n",
    "    if index >=0:\n",
    "        theList.delete(index)\n",
    "        theList.insert(index,shopping[index][0] + \"-\" + str(shopping[index][1]))\n",
    "    else:\n",
    "        theList.insert(END,item.get() + \"-\" + str(quantity.get()))\n",
    "\n",
    "def remove():\n",
    "    index = theList.index(ACTIVE)\n",
    "    print(index)\n",
    "    removeList(shopping, index)\n",
    "    theList.delete(index)\n",
    "\n",
    "shopping = [[\"Cashews/packet\" ,0],[\"Almonds/packet\", 0], [\"Pistachios/packet\", 0], [\"Apricots/Packet\", 0], [\"Raisins/packet\", 0]]\n",
    "\n",
    "window = Tk()\n",
    "window.title(\"Shopping List\")\n",
    "\n",
    "theList = Listbox(window, selectmode=SINGLE)\n",
    "theList.grid(row=0,column=0,columnspan=2,sticky=E)\n",
    "\n",
    "createListinListBox(shopping)\n",
    "\n",
    "item=StringVar()\n",
    "quantity=IntVar()\n",
    "\n",
    "quantity.set(1)\n",
    "\n",
    "Label(window, text=\"Item:\").grid(row=1, column=0, sticky=E)\n",
    "Entry(window, textvariable=item).grid(row=1, column=1, sticky=W)\n",
    "\n",
    "Label(window, text=\"Quantity:\").grid(row=2, column=0, sticky=E)\n",
    "Entry(window, textvariable=quantity).grid(row=2, column=1, sticky=W)\n",
    "\n",
    "Button(window, text=\"Add\", command=add).grid(row=3, column=0, columnspan=3)\n",
    "Button(window, text=\"Remove\", command=remove).grid(row=0, column=3)\n",
    "\n",
    "window.mainloop()\n"
   ]
  },
  {
   "cell_type": "code",
   "execution_count": null,
   "metadata": {},
   "outputs": [],
   "source": []
  }
 ],
 "metadata": {
  "kernelspec": {
   "display_name": "Python 3",
   "language": "python",
   "name": "python3"
  },
  "language_info": {
   "codemirror_mode": {
    "name": "ipython",
    "version": 3
   },
   "file_extension": ".py",
   "mimetype": "text/x-python",
   "name": "python",
   "nbconvert_exporter": "python",
   "pygments_lexer": "ipython3",
   "version": "3.7.6"
  }
 },
 "nbformat": 4,
 "nbformat_minor": 4
}
